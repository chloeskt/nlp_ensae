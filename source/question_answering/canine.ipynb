{
 "cells": [
  {
   "cell_type": "code",
   "execution_count": 1,
   "id": "9b978550",
   "metadata": {},
   "outputs": [],
   "source": [
    "import os\n",
    "\n",
    "import torch\n",
    "from transformers import (\n",
    "    CanineForQuestionAnswering,\n",
    "    default_data_collator,\n",
    "    get_linear_schedule_with_warmup,\n",
    "    CanineTokenizer,\n",
    ")\n",
    "from datasets import load_dataset, DatasetDict, load_metric, Dataset\n",
    "from torch.utils.data import DataLoader\n",
    "import numpy as np\n",
    "from tqdm import tqdm\n",
    "\n",
    "tqdm.pandas()\n",
    "\n",
    "%load_ext autoreload\n",
    "%autoreload 2"
   ]
  },
  {
   "cell_type": "code",
   "execution_count": 2,
   "id": "ddce4754",
   "metadata": {},
   "outputs": [],
   "source": [
    "from question_answering import (\n",
    "    Preprocessor,\n",
    "    CanineDatasetTokenizer,\n",
    "    CanineCTrainer,\n",
    "    TrainerArguments,\n",
    "    DataArguments,\n",
    "    set_seed,\n",
    "    to_pandas,\n",
    "    remove_examples_longer_than_threshold,\n",
    ")"
   ]
  },
  {
   "cell_type": "code",
   "execution_count": 3,
   "id": "f7807f9e",
   "metadata": {},
   "outputs": [],
   "source": [
    "seed = 0\n",
    "set_seed(seed)"
   ]
  },
  {
   "cell_type": "code",
   "execution_count": 4,
   "id": "9373dbc2",
   "metadata": {},
   "outputs": [
    {
     "name": "stderr",
     "output_type": "stream",
     "text": [
      "Reusing dataset squad_v2 (/home/kaliayev/.cache/huggingface/datasets/squad_v2/squad_v2/2.0.0/09187c73c1b837c95d9a249cd97c2c3f1cebada06efe667b4427714b27639b1d)\n"
     ]
    },
    {
     "data": {
      "application/vnd.jupyter.widget-view+json": {
       "model_id": "2d4e886c5ded42529c170d20769a0d8f",
       "version_major": 2,
       "version_minor": 0
      },
      "text/plain": [
       "  0%|          | 0/2 [00:00<?, ?it/s]"
      ]
     },
     "metadata": {},
     "output_type": "display_data"
    },
    {
     "data": {
      "text/plain": [
       "DatasetDict({\n",
       "    train: Dataset({\n",
       "        features: ['id', 'title', 'context', 'question', 'answers'],\n",
       "        num_rows: 130319\n",
       "    })\n",
       "    validation: Dataset({\n",
       "        features: ['id', 'title', 'context', 'question', 'answers'],\n",
       "        num_rows: 11873\n",
       "    })\n",
       "})"
      ]
     },
     "execution_count": 4,
     "metadata": {},
     "output_type": "execute_result"
    }
   ],
   "source": [
    "squad_v2 = True\n",
    "\n",
    "datasets = load_dataset(\"squad_v2\" if squad_v2 else \"squad\")\n",
    "datasets"
   ]
  },
  {
   "cell_type": "code",
   "execution_count": 5,
   "id": "fb795c17",
   "metadata": {},
   "outputs": [
    {
     "name": "stderr",
     "output_type": "stream",
     "text": [
      "Loading cached processed dataset at /home/kaliayev/.cache/huggingface/datasets/squad_v2/squad_v2/2.0.0/09187c73c1b837c95d9a249cd97c2c3f1cebada06efe667b4427714b27639b1d/cache-e1f546e6593e44d5.arrow\n",
      "Loading cached processed dataset at /home/kaliayev/.cache/huggingface/datasets/squad_v2/squad_v2/2.0.0/09187c73c1b837c95d9a249cd97c2c3f1cebada06efe667b4427714b27639b1d/cache-acfc79c6c4e7149f.arrow\n"
     ]
    }
   ],
   "source": [
    "preprocessor = Preprocessor(datasets)\n",
    "datasets = preprocessor.preprocess()"
   ]
  },
  {
   "cell_type": "code",
   "execution_count": 6,
   "id": "d7776a05",
   "metadata": {},
   "outputs": [
    {
     "name": "stderr",
     "output_type": "stream",
     "text": [
      "Using unk_token, but it is not set yet.\n",
      "Using unk_token, but it is not set yet.\n",
      "Using unk_token, but it is not set yet.\n",
      "Using unk_token, but it is not set yet.\n",
      "Using unk_token, but it is not set yet.\n",
      "Using unk_token, but it is not set yet.\n",
      "Using unk_token, but it is not set yet.\n",
      "Using unk_token, but it is not set yet.\n"
     ]
    }
   ],
   "source": [
    "# canine tokenizer\n",
    "pretrained_model_name = \"google/canine-c\"\n",
    "tokenizer = CanineTokenizer.from_pretrained(pretrained_model_name)"
   ]
  },
  {
   "cell_type": "code",
   "execution_count": 7,
   "id": "33043104",
   "metadata": {},
   "outputs": [],
   "source": [
    "max_length = 2048  # The maximum length of a feature (question and context)\n",
    "doc_stride = 512  # The authorized overlap between two part of the context when splitting it is needed."
   ]
  },
  {
   "cell_type": "code",
   "execution_count": 8,
   "id": "721ace1c",
   "metadata": {},
   "outputs": [],
   "source": [
    "df_train = to_pandas(datasets[\"train\"])\n",
    "df_validation = to_pandas(datasets[\"validation\"])"
   ]
  },
  {
   "cell_type": "code",
   "execution_count": 9,
   "id": "be211968",
   "metadata": {},
   "outputs": [
    {
     "name": "stdout",
     "output_type": "stream",
     "text": [
      "(130319, 5) (11873, 5)\n"
     ]
    }
   ],
   "source": [
    "print(df_train.shape, df_validation.shape)"
   ]
  },
  {
   "cell_type": "code",
   "execution_count": 10,
   "id": "af138c73",
   "metadata": {},
   "outputs": [
    {
     "name": "stderr",
     "output_type": "stream",
     "text": [
      "100%|███████████████████████████████████████████████████████████████████████████████████████████████████████████████████████████████████████████████████████████████| 130319/130319 [01:59<00:00, 1087.66it/s]\n",
      "100%|█████████████████████████████████████████████████████████████████████████████████████████████████████████████████████████████████████████████████████████████████| 11873/11873 [00:10<00:00, 1098.52it/s]\n"
     ]
    }
   ],
   "source": [
    "df_train = remove_examples_longer_than_threshold(\n",
    "    df_train, max_length=max_length * 2, doc_stride=doc_stride\n",
    ")\n",
    "df_validation = remove_examples_longer_than_threshold(\n",
    "    df_validation, max_length=max_length * 2, doc_stride=doc_stride\n",
    ")"
   ]
  },
  {
   "cell_type": "code",
   "execution_count": 11,
   "id": "e6a23b79",
   "metadata": {},
   "outputs": [
    {
     "name": "stdout",
     "output_type": "stream",
     "text": [
      "(130303, 7) (11861, 7)\n"
     ]
    }
   ],
   "source": [
    "print(df_train.shape, df_validation.shape)"
   ]
  },
  {
   "cell_type": "code",
   "execution_count": 12,
   "id": "4ce2e122",
   "metadata": {},
   "outputs": [
    {
     "name": "stdout",
     "output_type": "stream",
     "text": [
      "(100, 7) (20, 7)\n"
     ]
    }
   ],
   "source": [
    "reduce_size = True\n",
    "\n",
    "if reduce_size:\n",
    "    random_indices = np.random.choice(range(df_train.shape[0]), 100, replace=False)\n",
    "    df_train = df_train.loc[random_indices]\n",
    "\n",
    "    random_indices = np.random.choice(range(df_validation.shape[0]), 20, replace=False)\n",
    "    df_validation = df_validation.loc[random_indices]\n",
    "\n",
    "    print(df_train.shape, df_validation.shape)"
   ]
  },
  {
   "cell_type": "code",
   "execution_count": 13,
   "id": "c9bf831d",
   "metadata": {},
   "outputs": [],
   "source": [
    "datasets[\"train\"] = Dataset.from_pandas(df_train)\n",
    "datasets[\"validation\"] = Dataset.from_pandas(df_validation)\n",
    "\n",
    "del df_train, df_validation"
   ]
  },
  {
   "cell_type": "code",
   "execution_count": 14,
   "id": "d1c1495f",
   "metadata": {
    "scrolled": true
   },
   "outputs": [
    {
     "data": {
      "application/vnd.jupyter.widget-view+json": {
       "model_id": "b1cc794a6d9b41a2b11599a95c69b6cb",
       "version_major": 2,
       "version_minor": 0
      },
      "text/plain": [
       "  0%|          | 0/1 [00:00<?, ?ba/s]"
      ]
     },
     "metadata": {},
     "output_type": "display_data"
    },
    {
     "data": {
      "application/vnd.jupyter.widget-view+json": {
       "model_id": "8b020917d2604527bb9ab425c5efc20a",
       "version_major": 2,
       "version_minor": 0
      },
      "text/plain": [
       "  0%|          | 0/1 [00:00<?, ?ba/s]"
      ]
     },
     "metadata": {},
     "output_type": "display_data"
    }
   ],
   "source": [
    "tokenizer_dataset = CanineDatasetTokenizer(\n",
    "    tokenizer, max_length, doc_stride, train=True, squad_v2=squad_v2, language=\"en\"\n",
    ")\n",
    "tokenized_datasets = datasets.map(\n",
    "    tokenizer_dataset.tokenize,\n",
    "    batched=True,\n",
    "    remove_columns=datasets[\"train\"].column_names,\n",
    ")"
   ]
  },
  {
   "cell_type": "code",
   "execution_count": 15,
   "id": "6a479218",
   "metadata": {},
   "outputs": [
    {
     "data": {
      "text/plain": [
       "DatasetDict({\n",
       "    train: Dataset({\n",
       "        features: ['input_ids', 'attention_mask', 'token_type_ids', 'start_positions', 'end_positions'],\n",
       "        num_rows: 100\n",
       "    })\n",
       "    validation: Dataset({\n",
       "        features: ['input_ids', 'attention_mask', 'token_type_ids', 'start_positions', 'end_positions'],\n",
       "        num_rows: 20\n",
       "    })\n",
       "})"
      ]
     },
     "execution_count": 15,
     "metadata": {},
     "output_type": "execute_result"
    }
   ],
   "source": [
    "tokenized_datasets"
   ]
  },
  {
   "cell_type": "code",
   "execution_count": 16,
   "id": "a40f1425",
   "metadata": {},
   "outputs": [
    {
     "data": {
      "application/vnd.jupyter.widget-view+json": {
       "model_id": "e1ccdbe2a44f46d2b9683b2e6e514a93",
       "version_major": 2,
       "version_minor": 0
      },
      "text/plain": [
       "  0%|          | 0/1 [00:00<?, ?ba/s]"
      ]
     },
     "metadata": {},
     "output_type": "display_data"
    }
   ],
   "source": [
    "tokenizer_dataset = CanineDatasetTokenizer(\n",
    "    tokenizer, max_length, doc_stride, train=False, squad_v2=squad_v2, language=\"en\"\n",
    ")\n",
    "validation_features = datasets[\"validation\"].map(\n",
    "    tokenizer_dataset.tokenize,\n",
    "    batched=True,\n",
    "    remove_columns=datasets[\"validation\"].column_names,\n",
    ")"
   ]
  },
  {
   "cell_type": "code",
   "execution_count": 17,
   "id": "d22017db",
   "metadata": {},
   "outputs": [
    {
     "data": {
      "text/plain": [
       "Dataset({\n",
       "    features: ['input_ids', 'attention_mask', 'token_type_ids', 'example_id'],\n",
       "    num_rows: 20\n",
       "})"
      ]
     },
     "execution_count": 17,
     "metadata": {},
     "output_type": "execute_result"
    }
   ],
   "source": [
    "validation_features"
   ]
  },
  {
   "cell_type": "code",
   "execution_count": 18,
   "id": "fc9ab0f1",
   "metadata": {},
   "outputs": [],
   "source": [
    "data_collator = default_data_collator\n",
    "metric = load_metric(\"squad_v2\" if squad_v2 else \"squad\")"
   ]
  },
  {
   "cell_type": "code",
   "execution_count": 19,
   "id": "b5860003",
   "metadata": {},
   "outputs": [
    {
     "name": "stderr",
     "output_type": "stream",
     "text": [
      "Some weights of CanineForQuestionAnswering were not initialized from the model checkpoint at google/canine-c and are newly initialized: ['qa_outputs.weight', 'qa_outputs.bias']\n",
      "You should probably TRAIN this model on a down-stream task to be able to use it for predictions and inference.\n"
     ]
    }
   ],
   "source": [
    "model = CanineForQuestionAnswering.from_pretrained(pretrained_model_name)"
   ]
  },
  {
   "cell_type": "code",
   "execution_count": 20,
   "id": "ee52774c",
   "metadata": {},
   "outputs": [],
   "source": [
    "model_name = pretrained_model_name.split(\"/\")[-1]\n",
    "trainer_args = TrainerArguments(\n",
    "    model=model,\n",
    "    learning_rate=5e-5,\n",
    "    lr_scheduler=\"constant_with_warmup\",\n",
    "    warmup_ratio=0.1,\n",
    "    save_strategy=\"steps\",\n",
    "    save_steps=10,\n",
    "    epochs=1,\n",
    "    output_dir=\"/mnt/hdd/dl_ensae/models\",\n",
    "    metric=metric,\n",
    "    evaluation_strategy=\"steps\",\n",
    "    weight_decay=0.001,\n",
    "    data_collator=data_collator,\n",
    "    model_save_path=os.path.join(\n",
    "        \"/mnt/hdd/dl_ensae/models\", f\"{model_name}-finetuned\", \"best_data2vec.pt\"\n",
    "    ),\n",
    "    device=\"cpu\",\n",
    "    early_stopping_patience=3,\n",
    ")\n",
    "data_args = DataArguments(\n",
    "    datasets=datasets,\n",
    "    validation_features=validation_features,\n",
    "    batch_size=4,\n",
    "    tokenizer=tokenizer,\n",
    "    n_best_size=20,\n",
    "    max_answer_length=256,\n",
    "    tokenized_datasets=tokenized_datasets,\n",
    "    squad_v2=squad_v2,\n",
    ")"
   ]
  },
  {
   "cell_type": "code",
   "execution_count": 21,
   "id": "046aea7b",
   "metadata": {},
   "outputs": [],
   "source": [
    "if model_name == \"canine-c\":\n",
    "    trainer = CanineCTrainer(trainer_args, data_args)\n",
    "else:\n",
    "    trainer = CanineSTrainer(trainer_args, data_args)"
   ]
  },
  {
   "cell_type": "code",
   "execution_count": 22,
   "id": "d252f539",
   "metadata": {
    "scrolled": false
   },
   "outputs": [
    {
     "name": "stderr",
     "output_type": "stream",
     "text": [
      "/home/kaliayev/Documents/ENSAE/dl_ensae/env/lib/python3.8/site-packages/transformers/optimization.py:306: FutureWarning: This implementation of AdamW is deprecated and will be removed in a future version. Use the PyTorch implementation torch.optim.AdamW instead, or set `no_deprecation_warning=True` to disable this warning\n",
      "  warnings.warn(\n",
      "***** Running training *****\n",
      "  Num examples = 100\n",
      "  Num Epochs = 1\n",
      "  Instantaneous batch size per device = 4\n",
      "  Total train batch size (w. parallel, distributed & accumulation) = 4\n",
      "  Gradient Accumulation steps = 1\n",
      "  Total optimization steps = 25\n"
     ]
    },
    {
     "data": {
      "text/html": [
       "\n",
       "    <div>\n",
       "      \n",
       "      <progress value='25' max='25' style='width:300px; height:20px; vertical-align: middle;'></progress>\n",
       "      [25/25 02:34, Epoch 1/1]\n",
       "    </div>\n",
       "    <table border=\"1\" class=\"dataframe\">\n",
       "  <thead>\n",
       " <tr style=\"text-align: left;\">\n",
       "      <th>Step</th>\n",
       "      <th>Training Loss</th>\n",
       "      <th>Validation Loss</th>\n",
       "    </tr>\n",
       "  </thead>\n",
       "  <tbody>\n",
       "    <tr>\n",
       "      <td>10</td>\n",
       "      <td>7.270000</td>\n",
       "      <td>6.391757</td>\n",
       "    </tr>\n",
       "    <tr>\n",
       "      <td>20</td>\n",
       "      <td>6.103300</td>\n",
       "      <td>5.187766</td>\n",
       "    </tr>\n",
       "  </tbody>\n",
       "</table><p>"
      ],
      "text/plain": [
       "<IPython.core.display.HTML object>"
      ]
     },
     "metadata": {},
     "output_type": "display_data"
    },
    {
     "name": "stderr",
     "output_type": "stream",
     "text": [
      "***** Running Evaluation *****\n",
      "  Num examples = 20\n",
      "  Batch size = 4\n",
      "Saving model checkpoint to /mnt/hdd/dl_ensae/models/CANINE-C-finetuned/checkpoint-10\n",
      "Configuration saved in /mnt/hdd/dl_ensae/models/CANINE-C-finetuned/checkpoint-10/config.json\n",
      "Model weights saved in /mnt/hdd/dl_ensae/models/CANINE-C-finetuned/checkpoint-10/pytorch_model.bin\n",
      "tokenizer config file saved in /mnt/hdd/dl_ensae/models/CANINE-C-finetuned/checkpoint-10/tokenizer_config.json\n",
      "Special tokens file saved in /mnt/hdd/dl_ensae/models/CANINE-C-finetuned/checkpoint-10/special_tokens_map.json\n",
      "***** Running Evaluation *****\n",
      "  Num examples = 20\n",
      "  Batch size = 4\n",
      "Saving model checkpoint to /mnt/hdd/dl_ensae/models/CANINE-C-finetuned/checkpoint-20\n",
      "Configuration saved in /mnt/hdd/dl_ensae/models/CANINE-C-finetuned/checkpoint-20/config.json\n",
      "Model weights saved in /mnt/hdd/dl_ensae/models/CANINE-C-finetuned/checkpoint-20/pytorch_model.bin\n",
      "tokenizer config file saved in /mnt/hdd/dl_ensae/models/CANINE-C-finetuned/checkpoint-20/tokenizer_config.json\n",
      "Special tokens file saved in /mnt/hdd/dl_ensae/models/CANINE-C-finetuned/checkpoint-20/special_tokens_map.json\n",
      "\n",
      "\n",
      "Training completed. Do not forget to share your model on huggingface.co/models =)\n",
      "\n",
      "\n",
      "Loading best model from /mnt/hdd/dl_ensae/models/CANINE-C-finetuned/checkpoint-20 (score: 5.187766075134277).\n"
     ]
    }
   ],
   "source": [
    "trainer.train()"
   ]
  },
  {
   "cell_type": "code",
   "execution_count": 23,
   "id": "f92e0bb9",
   "metadata": {},
   "outputs": [
    {
     "name": "stderr",
     "output_type": "stream",
     "text": [
      "The following columns in the test set  don't have a corresponding argument in `CanineForQuestionAnswering.forward` and have been ignored: example_id. If example_id are not expected by `CanineForQuestionAnswering.forward`,  you can safely ignore this message.\n",
      "***** Running Prediction *****\n",
      "  Num examples = 20\n",
      "  Batch size = 4\n"
     ]
    },
    {
     "data": {
      "text/html": [
       "\n",
       "    <div>\n",
       "      \n",
       "      <progress value='5' max='5' style='width:300px; height:20px; vertical-align: middle;'></progress>\n",
       "      [5/5 00:06]\n",
       "    </div>\n",
       "    "
      ],
      "text/plain": [
       "<IPython.core.display.HTML object>"
      ]
     },
     "metadata": {},
     "output_type": "display_data"
    },
    {
     "data": {
      "application/vnd.jupyter.widget-view+json": {
       "model_id": "6290dfd041064827b4565ca37b6a1f94",
       "version_major": 2,
       "version_minor": 0
      },
      "text/plain": [
       "  0%|          | 0/1 [00:00<?, ?ba/s]"
      ]
     },
     "metadata": {},
     "output_type": "display_data"
    },
    {
     "name": "stdout",
     "output_type": "stream",
     "text": [
      "Obtained F1-score:  40.0 Obtained Exact Match:  40.0\n"
     ]
    }
   ],
   "source": [
    "f1, exact_match = trainer.evaluate(mode=\"val\")\n",
    "print(\"Obtained F1-score: \", f1, \"Obtained Exact Match: \", exact_match)"
   ]
  },
  {
   "cell_type": "code",
   "execution_count": null,
   "id": "48fce34d",
   "metadata": {},
   "outputs": [],
   "source": []
  },
  {
   "cell_type": "code",
   "execution_count": null,
   "id": "0e912601",
   "metadata": {},
   "outputs": [],
   "source": []
  }
 ],
 "metadata": {
  "kernelspec": {
   "display_name": "Python 3 (ipykernel)",
   "language": "python",
   "name": "python3"
  },
  "language_info": {
   "codemirror_mode": {
    "name": "ipython",
    "version": 3
   },
   "file_extension": ".py",
   "mimetype": "text/x-python",
   "name": "python",
   "nbconvert_exporter": "python",
   "pygments_lexer": "ipython3",
   "version": "3.8.10"
  }
 },
 "nbformat": 4,
 "nbformat_minor": 5
}
